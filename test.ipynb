{
 "cells": [
  {
   "cell_type": "code",
   "execution_count": 1,
   "metadata": {},
   "outputs": [],
   "source": [
    "from oscdata.oscdata import *\n",
    "from importlib import reload"
   ]
  },
  {
   "cell_type": "code",
   "execution_count": 2,
   "metadata": {},
   "outputs": [],
   "source": [
    "data = OSCData('data/SN2005hk.json','SN2005hk')"
   ]
  },
  {
   "cell_type": "code",
   "execution_count": 3,
   "metadata": {},
   "outputs": [],
   "source": [
    "x = data.data['spectra']"
   ]
  },
  {
   "cell_type": "code",
   "execution_count": 4,
   "metadata": {},
   "outputs": [
    {
     "name": "stdout",
     "output_type": "stream",
     "text": [
      "    e_value           kind source     value      Name source2\n",
      "0  0.000190   heliocentric   [13]  0.013060  SN2005hk      13\n",
      "1  0.000013  spectroscopic    [4]  0.013004  SN2005hk       4\n",
      "                source u_value          value      Name source2\n",
      "0             [12, 29]   hours    00:27:50.89  SN2005hk      12\n",
      "0             [12, 29]   hours    00:27:50.89  SN2005hk      29\n",
      "1         [13, 14, 15]   hours     00:27:50.9  SN2005hk      13\n",
      "1         [13, 14, 15]   hours     00:27:50.9  SN2005hk      14\n",
      "1         [13, 14, 15]   hours     00:27:50.9  SN2005hk      15\n",
      "2                  [3]   hours   00:27:50.849  SN2005hk       3\n",
      "3                  [4]   hours  00:27:50.8824  SN2005hk       4\n",
      "4              [4, 13]   hours  00:27:50.8584  SN2005hk       4\n",
      "4              [4, 13]   hours  00:27:50.8584  SN2005hk      13\n",
      "5  [8, 21, 22, 24, 31]   hours    00:27:50.87  SN2005hk       8\n",
      "5  [8, 21, 22, 24, 31]   hours    00:27:50.87  SN2005hk      21\n",
      "5  [8, 21, 22, 24, 31]   hours    00:27:50.87  SN2005hk      22\n",
      "5  [8, 21, 22, 24, 31]   hours    00:27:50.87  SN2005hk      24\n",
      "5  [8, 21, 22, 24, 31]   hours    00:27:50.87  SN2005hk      31\n",
      "            source  u_value          value      Name source2\n",
      "0         [12, 29]  degrees    -01:11:53.3  SN2005hk      12\n",
      "0         [12, 29]  degrees    -01:11:53.3  SN2005hk      29\n",
      "1             [13]  degrees      -01:11:53  SN2005hk      13\n",
      "2              [3]  degrees  -01:11:53.484  SN2005hk       3\n",
      "3             [14]  degrees   -01:11:52.44  SN2005hk      14\n",
      "4          [4, 15]  degrees   -01:11:53.34  SN2005hk       4\n",
      "4          [4, 15]  degrees   -01:11:53.34  SN2005hk      15\n",
      "5          [4, 13]  degrees  -01:11:53.628  SN2005hk       4\n",
      "5          [4, 13]  degrees  -01:11:53.628  SN2005hk      13\n",
      "6  [8, 21, 24, 31]  degrees    -01:11:52.5  SN2005hk       8\n",
      "6  [8, 21, 24, 31]  degrees    -01:11:52.5  SN2005hk      21\n",
      "6  [8, 21, 24, 31]  degrees    -01:11:52.5  SN2005hk      24\n",
      "6  [8, 21, 24, 31]  degrees    -01:11:52.5  SN2005hk      31\n",
      "7             [22]  degrees   -01:11:52.51  SN2005hk      22\n"
     ]
    }
   ],
   "source": [
    "data.get_metadata()"
   ]
  },
  {
   "cell_type": "code",
   "execution_count": null,
   "metadata": {},
   "outputs": [],
   "source": []
  }
 ],
 "metadata": {
  "kernelspec": {
   "display_name": "Python 3",
   "language": "python",
   "name": "python3"
  },
  "language_info": {
   "codemirror_mode": {
    "name": "ipython",
    "version": 3
   },
   "file_extension": ".py",
   "mimetype": "text/x-python",
   "name": "python",
   "nbconvert_exporter": "python",
   "pygments_lexer": "ipython3",
   "version": "3.6.8"
  }
 },
 "nbformat": 4,
 "nbformat_minor": 2
}
